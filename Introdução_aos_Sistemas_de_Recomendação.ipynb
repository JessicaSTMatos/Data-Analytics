{
  "nbformat": 4,
  "nbformat_minor": 0,
  "metadata": {
    "colab": {
      "provenance": []
    },
    "kernelspec": {
      "name": "python3",
      "display_name": "Python 3"
    },
    "language_info": {
      "name": "python"
    }
  },
  "cells": [
    {
      "cell_type": "code",
      "execution_count": null,
      "metadata": {
        "id": "Kd6TRuZsUjL6"
      },
      "outputs": [],
      "source": [
        "import scipy\n",
        "from scipy import stats\n",
        "import numpy as np"
      ]
    },
    {
      "cell_type": "code",
      "source": [
        "#Criação dos Dados\n",
        "matriz = np.array([[8,0,3,4,6],[5,6,1,8,9],[8,0,0,5,10]])"
      ],
      "metadata": {
        "id": "jKrScHlSUyP7"
      },
      "execution_count": null,
      "outputs": []
    },
    {
      "cell_type": "code",
      "source": [
        "novoUser = [8,0,2,3,0]"
      ],
      "metadata": {
        "id": "E9bN-aMTWSau"
      },
      "execution_count": null,
      "outputs": []
    },
    {
      "cell_type": "code",
      "source": [
        "nao_assistidos = [0,1,0,0,1]"
      ],
      "metadata": {
        "id": "98WrEybqWXsd"
      },
      "execution_count": null,
      "outputs": []
    },
    {
      "cell_type": "code",
      "source": [
        "print(matriz)"
      ],
      "metadata": {
        "colab": {
          "base_uri": "https://localhost:8080/"
        },
        "id": "xbqc5n--WdOp",
        "outputId": "1b848b2e-c62b-4895-cbd2-c2c460557917"
      },
      "execution_count": null,
      "outputs": [
        {
          "output_type": "stream",
          "name": "stdout",
          "text": [
            "[[ 8  0  3  4  6]\n",
            " [ 5  6  1  8  9]\n",
            " [ 8  0  0  5 10]]\n"
          ]
        }
      ]
    },
    {
      "cell_type": "code",
      "source": [
        "nomeFilmes = ['Round 6', 'A Invocação do Mal', '9 Desconhecidos', 'You', 'La Casa de Papel']"
      ],
      "metadata": {
        "id": "siL5W-XVWf-A"
      },
      "execution_count": null,
      "outputs": []
    },
    {
      "cell_type": "code",
      "source": [
        "#criando um vetor com 3 posições e preencher com zero (vamos colocar os valores da similaridade entre o novoUser e cada outro)"
      ],
      "metadata": {
        "id": "Uj7u06c9Wy7l"
      },
      "execution_count": null,
      "outputs": []
    },
    {
      "cell_type": "code",
      "source": [
        "similarity = [0] * 3\n",
        "print (matriz[0][0])\n",
        "print (matriz[1][0])\n",
        "print (matriz[1,:])"
      ],
      "metadata": {
        "colab": {
          "base_uri": "https://localhost:8080/"
        },
        "id": "eJwrBj3zdPYZ",
        "outputId": "33dacde2-ed72-41cc-cd00-15066240fce5"
      },
      "execution_count": null,
      "outputs": [
        {
          "output_type": "stream",
          "name": "stdout",
          "text": [
            "8\n",
            "5\n",
            "[5 6 1 8 9]\n"
          ]
        }
      ]
    },
    {
      "cell_type": "code",
      "source": [
        "#para cada usuário no sistema ...\n",
        "for i in range(0,3):\n",
        "  temp = matriz[i,:] #vamos pegar os dados desse usuário\n",
        "  print(i, temp)\n",
        "  # Mas queremos apenas os dados que o novoUser assistiu (ou seja... Que novoUser != 0)\n",
        "  tempUser = [t for n, t in zip(novoUser, temp) if n != 0]\n",
        "  tempNovoUser = [n for n in novoUser if n != 0]\n",
        "#para verificar o processo\n",
        "  print('user:', i)\n",
        "  print(tempUser, tempNovoUser)\n",
        "  #vamos usar a biblioteca scipy stats que já calcula o pearson!!!\n",
        "similarity[i] = scipy.stats.pearsonr(tempUser, tempNovoUser)[0] #a função retorna dois valores e o primeiro é o coefieciente de pearson\n",
        "print()\n",
        "print(similarity)\n"
      ],
      "metadata": {
        "colab": {
          "base_uri": "https://localhost:8080/"
        },
        "id": "bXp3QA-Sdl_O",
        "outputId": "aa2a1292-1387-46fe-bd73-b565285c15d9"
      },
      "execution_count": null,
      "outputs": [
        {
          "output_type": "stream",
          "name": "stdout",
          "text": [
            "0 [8 0 3 4 6]\n",
            "user: 0\n",
            "[np.int64(8), np.int64(3), np.int64(4)] [8, 2, 3]\n",
            "1 [5 6 1 8 9]\n",
            "user: 1\n",
            "[np.int64(5), np.int64(1), np.int64(8)] [8, 2, 3]\n",
            "2 [ 8  0  0  5 10]\n",
            "user: 2\n",
            "[np.int64(8), np.int64(0), np.int64(5)] [8, 2, 3]\n",
            "\n",
            "[np.float64(0.9994237971287664), np.float64(0.23621543814299698), np.float64(0.8723686098443353)]\n"
          ]
        }
      ]
    },
    {
      "cell_type": "code",
      "source": [
        "nota_peso = np.zeros((3,5))\n",
        "\n",
        "for nUser in range(3):\n",
        "  for nFilme in range(5):\n",
        "    print('nota_peso[',nUser, '][',nFilme, '] = , nao_assistidos[',nFilme, '], * ,matriz[',nUser,'][',nFilme, '], * similarity[',nUser,']')\n",
        "    print('nota_peso[',nUser, '][',nFilme, '] = ', nao_assistidos[nFilme], ' * ' ,matriz[nUser][nFilme], ' * ', similarity[nUser])\n",
        "    nota_peso[nUser][nFilme] = nao_assistidos[nFilme] * matriz[nUser][nFilme] * similarity[nUser]\n",
        "\n",
        "print(nota_peso)\n"
      ],
      "metadata": {
        "colab": {
          "base_uri": "https://localhost:8080/"
        },
        "id": "6U0ofH9agCeF",
        "outputId": "21ddc0c7-f215-4865-b14e-58687036b697"
      },
      "execution_count": null,
      "outputs": [
        {
          "output_type": "stream",
          "name": "stdout",
          "text": [
            "nota_peso[ 0 ][ 0 ] = , nao_assistidos[ 0 ], * ,matriz[ 0 ][ 0 ], * similarity[ 0 ]\n",
            "nota_peso[ 0 ][ 0 ] =  0  *  8  *  0.9994237971287664\n",
            "nota_peso[ 0 ][ 1 ] = , nao_assistidos[ 1 ], * ,matriz[ 0 ][ 1 ], * similarity[ 0 ]\n",
            "nota_peso[ 0 ][ 1 ] =  1  *  0  *  0.9994237971287664\n",
            "nota_peso[ 0 ][ 2 ] = , nao_assistidos[ 2 ], * ,matriz[ 0 ][ 2 ], * similarity[ 0 ]\n",
            "nota_peso[ 0 ][ 2 ] =  0  *  3  *  0.9994237971287664\n",
            "nota_peso[ 0 ][ 3 ] = , nao_assistidos[ 3 ], * ,matriz[ 0 ][ 3 ], * similarity[ 0 ]\n",
            "nota_peso[ 0 ][ 3 ] =  0  *  4  *  0.9994237971287664\n",
            "nota_peso[ 0 ][ 4 ] = , nao_assistidos[ 4 ], * ,matriz[ 0 ][ 4 ], * similarity[ 0 ]\n",
            "nota_peso[ 0 ][ 4 ] =  1  *  6  *  0.9994237971287664\n",
            "nota_peso[ 1 ][ 0 ] = , nao_assistidos[ 0 ], * ,matriz[ 1 ][ 0 ], * similarity[ 1 ]\n",
            "nota_peso[ 1 ][ 0 ] =  0  *  5  *  0.23621543814299698\n",
            "nota_peso[ 1 ][ 1 ] = , nao_assistidos[ 1 ], * ,matriz[ 1 ][ 1 ], * similarity[ 1 ]\n",
            "nota_peso[ 1 ][ 1 ] =  1  *  6  *  0.23621543814299698\n",
            "nota_peso[ 1 ][ 2 ] = , nao_assistidos[ 2 ], * ,matriz[ 1 ][ 2 ], * similarity[ 1 ]\n",
            "nota_peso[ 1 ][ 2 ] =  0  *  1  *  0.23621543814299698\n",
            "nota_peso[ 1 ][ 3 ] = , nao_assistidos[ 3 ], * ,matriz[ 1 ][ 3 ], * similarity[ 1 ]\n",
            "nota_peso[ 1 ][ 3 ] =  0  *  8  *  0.23621543814299698\n",
            "nota_peso[ 1 ][ 4 ] = , nao_assistidos[ 4 ], * ,matriz[ 1 ][ 4 ], * similarity[ 1 ]\n",
            "nota_peso[ 1 ][ 4 ] =  1  *  9  *  0.23621543814299698\n",
            "nota_peso[ 2 ][ 0 ] = , nao_assistidos[ 0 ], * ,matriz[ 2 ][ 0 ], * similarity[ 2 ]\n",
            "nota_peso[ 2 ][ 0 ] =  0  *  8  *  0.8723686098443353\n",
            "nota_peso[ 2 ][ 1 ] = , nao_assistidos[ 1 ], * ,matriz[ 2 ][ 1 ], * similarity[ 2 ]\n",
            "nota_peso[ 2 ][ 1 ] =  1  *  0  *  0.8723686098443353\n",
            "nota_peso[ 2 ][ 2 ] = , nao_assistidos[ 2 ], * ,matriz[ 2 ][ 2 ], * similarity[ 2 ]\n",
            "nota_peso[ 2 ][ 2 ] =  0  *  0  *  0.8723686098443353\n",
            "nota_peso[ 2 ][ 3 ] = , nao_assistidos[ 3 ], * ,matriz[ 2 ][ 3 ], * similarity[ 2 ]\n",
            "nota_peso[ 2 ][ 3 ] =  0  *  5  *  0.8723686098443353\n",
            "nota_peso[ 2 ][ 4 ] = , nao_assistidos[ 4 ], * ,matriz[ 2 ][ 4 ], * similarity[ 2 ]\n",
            "nota_peso[ 2 ][ 4 ] =  1  *  10  *  0.8723686098443353\n",
            "[[0.         0.         0.         0.         5.99654278]\n",
            " [0.         1.41729263 0.         0.         2.12593894]\n",
            " [0.         0.         0.         0.         8.7236861 ]]\n"
          ]
        }
      ]
    },
    {
      "cell_type": "code",
      "source": [
        "notas_acumuladas = np.sum(nota_peso.T, axis=1)\n",
        "print(notas_acumuladas)"
      ],
      "metadata": {
        "colab": {
          "base_uri": "https://localhost:8080/"
        },
        "id": "Rij-vpVOmIJf",
        "outputId": "dfdf00a8-39e4-41f9-c6ec-171f91036912"
      },
      "execution_count": null,
      "outputs": [
        {
          "output_type": "stream",
          "name": "stdout",
          "text": [
            "[ 0.          1.41729263  0.          0.         16.84616782]\n"
          ]
        }
      ]
    },
    {
      "cell_type": "code",
      "source": [
        "temp_peso = nota_peso\n",
        "temp_peso[nota_peso > 0] = 1\n",
        "print(temp_peso)"
      ],
      "metadata": {
        "colab": {
          "base_uri": "https://localhost:8080/"
        },
        "id": "CFEXVvUloQXI",
        "outputId": "ddd72137-3541-488c-8b00-e786f516820e"
      },
      "execution_count": null,
      "outputs": [
        {
          "output_type": "stream",
          "name": "stdout",
          "text": [
            "[[0. 0. 0. 0. 1.]\n",
            " [0. 1. 0. 0. 1.]\n",
            " [0. 0. 0. 0. 1.]]\n"
          ]
        }
      ]
    },
    {
      "cell_type": "code",
      "source": [
        "temp_similaridade = np.zeros((3,5))\n",
        "for nUser in range(3):\n",
        "  for nFilme in range(5):\n",
        "    temp_similaridade[nUser][nFilme] = temp_peso[nUser][nFilme] * similarity[nUser]\n",
        "\n",
        "print(temp_similaridade)\n"
      ],
      "metadata": {
        "colab": {
          "base_uri": "https://localhost:8080/"
        },
        "id": "Kp77CoZNpHHX",
        "outputId": "631a2f12-8b49-44a2-8cce-4799aa2ef314"
      },
      "execution_count": null,
      "outputs": [
        {
          "output_type": "stream",
          "name": "stdout",
          "text": [
            "[[0.         0.         0.         0.         0.9994238 ]\n",
            " [0.         0.23621544 0.         0.         0.23621544]\n",
            " [0.         0.         0.         0.         0.87236861]]\n"
          ]
        }
      ]
    },
    {
      "cell_type": "code",
      "source": [
        "similaridade_acumulada = np.sum(temp_similaridade.T, axis=1)\n",
        "print(similaridade_acumulada)"
      ],
      "metadata": {
        "colab": {
          "base_uri": "https://localhost:8080/"
        },
        "id": "4HnJhYmYqab8",
        "outputId": "e749204e-7b1a-4abe-dbad-bfbe4d398b22"
      },
      "execution_count": null,
      "outputs": [
        {
          "output_type": "stream",
          "name": "stdout",
          "text": [
            "[0.         0.23621544 0.         0.         2.10800785]\n"
          ]
        }
      ]
    },
    {
      "cell_type": "code",
      "source": [
        "nota_final =[0] * 5\n",
        "#agora a normalização para cada filme com nota acumulada, eu normalizo pela soma dos pesos (similaridade)\n",
        "for nFilme in range(5):\n",
        "  if(similaridade_acumulada[nFilme] > 0):\n",
        "    nota_final[nFilme] =  notas_acumuladas[nFilme] / similaridade_acumulada[nFilme]\n",
        "  else:\n",
        "    nota_final[nFilme] = 0\n",
        "\n",
        "print(nota_final)"
      ],
      "metadata": {
        "colab": {
          "base_uri": "https://localhost:8080/"
        },
        "id": "se29UpTvq-yz",
        "outputId": "05179fcf-eebc-43fb-c382-4115af8fa25c"
      },
      "execution_count": null,
      "outputs": [
        {
          "output_type": "stream",
          "name": "stdout",
          "text": [
            "[0, np.float64(6.0), 0, 0, np.float64(7.991510972567145)]\n"
          ]
        }
      ]
    },
    {
      "cell_type": "code",
      "source": [
        "nAssistidos = sum(nao_assistidos)\n",
        "\n",
        "notasOrdenadasIndex = sorted(range(len(nota_final)),key=nota_final.__getitem__)[::-1][0:nAssistidos]\n",
        "print(notasOrdenadasIndex)\n",
        "\n",
        "for i in notasOrdenadasIndex:\n",
        "  print(nomeFilmes[i], 'nota: ', nota_final[i])"
      ],
      "metadata": {
        "id": "8hWV32BZrxDU",
        "outputId": "3d933c1c-057b-409d-f4cd-7f104e025ad5",
        "colab": {
          "base_uri": "https://localhost:8080/"
        }
      },
      "execution_count": null,
      "outputs": [
        {
          "output_type": "stream",
          "name": "stdout",
          "text": [
            "[4, 1]\n",
            "La Casa de Papel nota:  7.991510972567145\n",
            "A Invocação do Mal nota:  6.0\n"
          ]
        }
      ]
    },
    {
      "cell_type": "code",
      "source": [],
      "metadata": {
        "id": "utJYBodhr36A"
      },
      "execution_count": null,
      "outputs": []
    }
  ]
}